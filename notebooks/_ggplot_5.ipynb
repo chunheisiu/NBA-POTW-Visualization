{
 "cells": [
  {
   "cell_type": "markdown",
   "metadata": {},
   "source": [
    "## Visualization 5: Relationship between NBA Player of the Week and Team Location"
   ]
  },
  {
   "cell_type": "markdown",
   "metadata": {},
   "source": [
    "Note: This notebook requires `maps` and `mapdata` which could be installed by running `install.packages(c(\"maps\", \"mapdata\"))` in R"
   ]
  },
  {
   "cell_type": "markdown",
   "metadata": {},
   "source": [
    "Note: This notebook requires `ggnewscale` which could be installed by running `devtools::install_github(\"eliocamp/ggnewscale\")` in R"
   ]
  },
  {
   "cell_type": "markdown",
   "metadata": {},
   "source": [
    "Note: This notebook requires `us` which could be installed by running `pip install us` in Python"
   ]
  },
  {
   "cell_type": "code",
   "execution_count": 1,
   "metadata": {},
   "outputs": [],
   "source": [
    "%load_ext rpy2.ipython\n",
    "%R library(ggplot2)\n",
    "%R library(maps)\n",
    "%R library(mapdata)\n",
    "%R library(ggnewscale)\n",
    "\n",
    "import pandas as pd\n",
    "import numpy as np\n",
    "import us\n",
    "from utils import pd2r"
   ]
  },
  {
   "cell_type": "markdown",
   "metadata": {},
   "source": [
    "Load Data and calculate POTW count for each team"
   ]
  },
  {
   "cell_type": "code",
   "execution_count": 2,
   "metadata": {},
   "outputs": [],
   "source": [
    "location = pd2r(pd.read_csv('../data/scraped/NBA_Location.csv'))\n",
    "nba_Abb = pd.read_csv('../data/scraped/NBA_Teams_Abb.csv')\n",
    "potw = pd.read_csv('../data/raw/NBA_Player_of_the_Week.csv')\n",
    "nba_colors = pd.read_csv('../data/scraped/NBA_Teams_Color.csv')\n",
    "potw = potw.loc[potw['Season short'] > 1990]"
   ]
  },
  {
   "cell_type": "code",
   "execution_count": 3,
   "metadata": {},
   "outputs": [
    {
     "data": {
      "text/html": [
       "<div>\n",
       "<style scoped>\n",
       "    .dataframe tbody tr th:only-of-type {\n",
       "        vertical-align: middle;\n",
       "    }\n",
       "\n",
       "    .dataframe tbody tr th {\n",
       "        vertical-align: top;\n",
       "    }\n",
       "\n",
       "    .dataframe thead th {\n",
       "        text-align: right;\n",
       "    }\n",
       "</style>\n",
       "<table border=\"1\" class=\"dataframe\">\n",
       "  <thead>\n",
       "    <tr style=\"text-align: right;\">\n",
       "      <th></th>\n",
       "      <th>Division</th>\n",
       "      <th>Team</th>\n",
       "      <th>City, State</th>\n",
       "      <th>Arena</th>\n",
       "      <th>Capacity</th>\n",
       "      <th>Coordinates</th>\n",
       "      <th>Founded</th>\n",
       "      <th>Joined</th>\n",
       "      <th>latitude</th>\n",
       "      <th>longitude</th>\n",
       "      <th>Abb</th>\n",
       "    </tr>\n",
       "  </thead>\n",
       "  <tbody>\n",
       "    <tr>\n",
       "      <td>0</td>\n",
       "      <td>Atlantic</td>\n",
       "      <td>Boston Celtics</td>\n",
       "      <td>Boston, Massachusetts</td>\n",
       "      <td>TD Garden</td>\n",
       "      <td>18624</td>\n",
       "      <td>﻿42.366303°N 71.062228°W</td>\n",
       "      <td>1946</td>\n",
       "      <td>1946</td>\n",
       "      <td>42.366303</td>\n",
       "      <td>-71.062228</td>\n",
       "      <td>BOS</td>\n",
       "    </tr>\n",
       "    <tr>\n",
       "      <td>1</td>\n",
       "      <td>Atlantic</td>\n",
       "      <td>Brooklyn Nets</td>\n",
       "      <td>New York City, New York</td>\n",
       "      <td>Barclays Center</td>\n",
       "      <td>17732</td>\n",
       "      <td>﻿40.68265°N 73.974689°W</td>\n",
       "      <td>1967*</td>\n",
       "      <td>1976</td>\n",
       "      <td>41.000000</td>\n",
       "      <td>-75.000000</td>\n",
       "      <td>BKN</td>\n",
       "    </tr>\n",
       "    <tr>\n",
       "      <td>2</td>\n",
       "      <td>Atlantic</td>\n",
       "      <td>New York Knicks</td>\n",
       "      <td>New York City, New York</td>\n",
       "      <td>Madison Square Garden</td>\n",
       "      <td>19812</td>\n",
       "      <td>﻿40.750556°N 73.993611°W</td>\n",
       "      <td>1946</td>\n",
       "      <td>1946</td>\n",
       "      <td>40.750556</td>\n",
       "      <td>-73.993611</td>\n",
       "      <td>NYK</td>\n",
       "    </tr>\n",
       "    <tr>\n",
       "      <td>3</td>\n",
       "      <td>Atlantic</td>\n",
       "      <td>Philadelphia 76ers</td>\n",
       "      <td>Philadelphia, Pennsylvania</td>\n",
       "      <td>Wells Fargo Center</td>\n",
       "      <td>21600</td>\n",
       "      <td>﻿39.901111°N 75.171944°W</td>\n",
       "      <td>1946*</td>\n",
       "      <td>1949</td>\n",
       "      <td>39.901111</td>\n",
       "      <td>-75.171944</td>\n",
       "      <td>PHI</td>\n",
       "    </tr>\n",
       "    <tr>\n",
       "      <td>4</td>\n",
       "      <td>Atlantic</td>\n",
       "      <td>Toronto Raptors</td>\n",
       "      <td>Toronto, Ontario</td>\n",
       "      <td>Scotiabank Arena</td>\n",
       "      <td>19800</td>\n",
       "      <td>﻿43.643333°N 79.379167°W</td>\n",
       "      <td>1995</td>\n",
       "      <td>1995</td>\n",
       "      <td>43.643333</td>\n",
       "      <td>-79.379167</td>\n",
       "      <td>TOR</td>\n",
       "    </tr>\n",
       "  </tbody>\n",
       "</table>\n",
       "</div>"
      ],
      "text/plain": [
       "   Division                Team                 City, State  \\\n",
       "0  Atlantic      Boston Celtics       Boston, Massachusetts   \n",
       "1  Atlantic       Brooklyn Nets     New York City, New York   \n",
       "2  Atlantic     New York Knicks     New York City, New York   \n",
       "3  Atlantic  Philadelphia 76ers  Philadelphia, Pennsylvania   \n",
       "4  Atlantic     Toronto Raptors            Toronto, Ontario   \n",
       "\n",
       "                   Arena  Capacity                Coordinates Founded Joined  \\\n",
       "0              TD Garden     18624   ﻿42.366303°N 71.062228°W    1946   1946   \n",
       "1        Barclays Center     17732    ﻿40.68265°N 73.974689°W   1967*   1976   \n",
       "2  Madison Square Garden     19812   ﻿40.750556°N 73.993611°W    1946   1946   \n",
       "3     Wells Fargo Center     21600   ﻿39.901111°N 75.171944°W   1946*   1949   \n",
       "4       Scotiabank Arena     19800   ﻿43.643333°N 79.379167°W    1995   1995   \n",
       "\n",
       "    latitude  longitude  Abb  \n",
       "0  42.366303 -71.062228  BOS  \n",
       "1  41.000000 -75.000000  BKN  \n",
       "2  40.750556 -73.993611  NYK  \n",
       "3  39.901111 -75.171944  PHI  \n",
       "4  43.643333 -79.379167  TOR  "
      ]
     },
     "execution_count": 3,
     "metadata": {},
     "output_type": "execute_result"
    }
   ],
   "source": [
    "# Add Abbreviation for the team\n",
    "location_w_abb = (pd.merge(location, nba_Abb, left_on = 'Team', right_on = 'Franchise', how = 'left').drop(columns = 'Franchise'))\n",
    "location_w_abb = location_w_abb.rename(columns = {'Abbreviation/Acronym':'Abb'})\n",
    "location_w_abb.head()"
   ]
  },
  {
   "cell_type": "code",
   "execution_count": 4,
   "metadata": {},
   "outputs": [],
   "source": [
    "# Count how many times each NBA team got POTW in history\n",
    "potw_count = potw.groupby('Team').count()['Player'].reset_index()\n",
    "potw_count.loc[potw_count.Team == 'Philadelphia Sixers', 'Team'] = 'Philadelphia 76ers'\n",
    "location_new = location_w_abb[['Team','latitude','longitude','Abb']]"
   ]
  },
  {
   "cell_type": "code",
   "execution_count": 5,
   "metadata": {},
   "outputs": [
    {
     "data": {
      "text/html": [
       "<div>\n",
       "<style scoped>\n",
       "    .dataframe tbody tr th:only-of-type {\n",
       "        vertical-align: middle;\n",
       "    }\n",
       "\n",
       "    .dataframe tbody tr th {\n",
       "        vertical-align: top;\n",
       "    }\n",
       "\n",
       "    .dataframe thead th {\n",
       "        text-align: right;\n",
       "    }\n",
       "</style>\n",
       "<table border=\"1\" class=\"dataframe\">\n",
       "  <thead>\n",
       "    <tr style=\"text-align: right;\">\n",
       "      <th></th>\n",
       "      <th>Team</th>\n",
       "      <th>latitude</th>\n",
       "      <th>longitude</th>\n",
       "      <th>Abb</th>\n",
       "      <th>Player</th>\n",
       "    </tr>\n",
       "  </thead>\n",
       "  <tbody>\n",
       "    <tr>\n",
       "      <td>0</td>\n",
       "      <td>Boston Celtics</td>\n",
       "      <td>42.366303</td>\n",
       "      <td>-71.062228</td>\n",
       "      <td>BOS</td>\n",
       "      <td>34</td>\n",
       "    </tr>\n",
       "    <tr>\n",
       "      <td>1</td>\n",
       "      <td>Brooklyn Nets</td>\n",
       "      <td>41.000000</td>\n",
       "      <td>-75.000000</td>\n",
       "      <td>BKN</td>\n",
       "      <td>6</td>\n",
       "    </tr>\n",
       "    <tr>\n",
       "      <td>2</td>\n",
       "      <td>New York Knicks</td>\n",
       "      <td>40.750556</td>\n",
       "      <td>-73.993611</td>\n",
       "      <td>NYK</td>\n",
       "      <td>30</td>\n",
       "    </tr>\n",
       "    <tr>\n",
       "      <td>3</td>\n",
       "      <td>Philadelphia 76ers</td>\n",
       "      <td>39.901111</td>\n",
       "      <td>-75.171944</td>\n",
       "      <td>PHI</td>\n",
       "      <td>32</td>\n",
       "    </tr>\n",
       "    <tr>\n",
       "      <td>4</td>\n",
       "      <td>Toronto Raptors</td>\n",
       "      <td>43.643333</td>\n",
       "      <td>-79.379167</td>\n",
       "      <td>TOR</td>\n",
       "      <td>34</td>\n",
       "    </tr>\n",
       "  </tbody>\n",
       "</table>\n",
       "</div>"
      ],
      "text/plain": [
       "                 Team   latitude  longitude  Abb  Player\n",
       "0      Boston Celtics  42.366303 -71.062228  BOS      34\n",
       "1       Brooklyn Nets  41.000000 -75.000000  BKN       6\n",
       "2     New York Knicks  40.750556 -73.993611  NYK      30\n",
       "3  Philadelphia 76ers  39.901111 -75.171944  PHI      32\n",
       "4     Toronto Raptors  43.643333 -79.379167  TOR      34"
      ]
     },
     "execution_count": 5,
     "metadata": {},
     "output_type": "execute_result"
    }
   ],
   "source": [
    "# map POTW count to locatin\n",
    "loc_potw_ct = pd.merge(location_new,potw_count, on = 'Team', how = 'left')\n",
    "loc_potw_ct.head()"
   ]
  },
  {
   "cell_type": "markdown",
   "metadata": {},
   "source": [
    "Map Team color to the data"
   ]
  },
  {
   "cell_type": "code",
   "execution_count": 6,
   "metadata": {},
   "outputs": [
    {
     "data": {
      "text/html": [
       "<div>\n",
       "<style scoped>\n",
       "    .dataframe tbody tr th:only-of-type {\n",
       "        vertical-align: middle;\n",
       "    }\n",
       "\n",
       "    .dataframe tbody tr th {\n",
       "        vertical-align: top;\n",
       "    }\n",
       "\n",
       "    .dataframe thead th {\n",
       "        text-align: right;\n",
       "    }\n",
       "</style>\n",
       "<table border=\"1\" class=\"dataframe\">\n",
       "  <thead>\n",
       "    <tr style=\"text-align: right;\">\n",
       "      <th></th>\n",
       "      <th>Team</th>\n",
       "      <th>latitude</th>\n",
       "      <th>longitude</th>\n",
       "      <th>Abb</th>\n",
       "      <th>Player</th>\n",
       "      <th>Franchise</th>\n",
       "      <th>Tm</th>\n",
       "      <th>Color1</th>\n",
       "      <th>Color2</th>\n",
       "    </tr>\n",
       "  </thead>\n",
       "  <tbody>\n",
       "    <tr>\n",
       "      <td>0</td>\n",
       "      <td>Boston Celtics</td>\n",
       "      <td>42.366303</td>\n",
       "      <td>-71.062228</td>\n",
       "      <td>BOS</td>\n",
       "      <td>34</td>\n",
       "      <td>Boston Celtics</td>\n",
       "      <td>BOS</td>\n",
       "      <td>#007A33</td>\n",
       "      <td>#BA9653</td>\n",
       "    </tr>\n",
       "    <tr>\n",
       "      <td>1</td>\n",
       "      <td>Brooklyn Nets</td>\n",
       "      <td>41.000000</td>\n",
       "      <td>-75.000000</td>\n",
       "      <td>BKN</td>\n",
       "      <td>6</td>\n",
       "      <td>Brooklyn Nets</td>\n",
       "      <td>BKN</td>\n",
       "      <td>#000000</td>\n",
       "      <td>#000000</td>\n",
       "    </tr>\n",
       "    <tr>\n",
       "      <td>2</td>\n",
       "      <td>New York Knicks</td>\n",
       "      <td>40.750556</td>\n",
       "      <td>-73.993611</td>\n",
       "      <td>NYK</td>\n",
       "      <td>30</td>\n",
       "      <td>New York Knicks</td>\n",
       "      <td>NYK</td>\n",
       "      <td>#006BB6</td>\n",
       "      <td>#F58426</td>\n",
       "    </tr>\n",
       "    <tr>\n",
       "      <td>3</td>\n",
       "      <td>Philadelphia 76ers</td>\n",
       "      <td>39.901111</td>\n",
       "      <td>-75.171944</td>\n",
       "      <td>PHI</td>\n",
       "      <td>32</td>\n",
       "      <td>Philadelphia 76ers</td>\n",
       "      <td>PHI</td>\n",
       "      <td>#006BB6</td>\n",
       "      <td>#ED174C</td>\n",
       "    </tr>\n",
       "    <tr>\n",
       "      <td>4</td>\n",
       "      <td>Toronto Raptors</td>\n",
       "      <td>43.643333</td>\n",
       "      <td>-79.379167</td>\n",
       "      <td>TOR</td>\n",
       "      <td>34</td>\n",
       "      <td>Toronto Raptors</td>\n",
       "      <td>TOR</td>\n",
       "      <td>#CE1141</td>\n",
       "      <td>#000000</td>\n",
       "    </tr>\n",
       "  </tbody>\n",
       "</table>\n",
       "</div>"
      ],
      "text/plain": [
       "                 Team   latitude  longitude  Abb  Player           Franchise  \\\n",
       "0      Boston Celtics  42.366303 -71.062228  BOS      34      Boston Celtics   \n",
       "1       Brooklyn Nets  41.000000 -75.000000  BKN       6       Brooklyn Nets   \n",
       "2     New York Knicks  40.750556 -73.993611  NYK      30     New York Knicks   \n",
       "3  Philadelphia 76ers  39.901111 -75.171944  PHI      32  Philadelphia 76ers   \n",
       "4     Toronto Raptors  43.643333 -79.379167  TOR      34     Toronto Raptors   \n",
       "\n",
       "    Tm   Color1   Color2  \n",
       "0  BOS  #007A33  #BA9653  \n",
       "1  BKN  #000000  #000000  \n",
       "2  NYK  #006BB6  #F58426  \n",
       "3  PHI  #006BB6  #ED174C  \n",
       "4  TOR  #CE1141  #000000  "
      ]
     },
     "execution_count": 6,
     "metadata": {},
     "output_type": "execute_result"
    }
   ],
   "source": [
    "nba_df = pd.merge(loc_potw_ct, nba_colors, left_on = 'Team', right_on = 'Franchise', how = 'left')\n",
    "nba_colors = nba_df.set_index('Team')\n",
    "nba_ggplot_fill = nba_colors['Color1']\n",
    "nba_ggplot_color = nba_colors['Color2']\n",
    "nba_df.head()"
   ]
  },
  {
   "cell_type": "markdown",
   "metadata": {},
   "source": [
    "Map color to the region for ggplot"
   ]
  },
  {
   "cell_type": "code",
   "execution_count": 7,
   "metadata": {},
   "outputs": [
    {
     "data": {
      "text/html": [
       "<div>\n",
       "<style scoped>\n",
       "    .dataframe tbody tr th:only-of-type {\n",
       "        vertical-align: middle;\n",
       "    }\n",
       "\n",
       "    .dataframe tbody tr th {\n",
       "        vertical-align: top;\n",
       "    }\n",
       "\n",
       "    .dataframe thead th {\n",
       "        text-align: right;\n",
       "    }\n",
       "</style>\n",
       "<table border=\"1\" class=\"dataframe\">\n",
       "  <thead>\n",
       "    <tr style=\"text-align: right;\">\n",
       "      <th></th>\n",
       "      <th>State</th>\n",
       "    </tr>\n",
       "  </thead>\n",
       "  <tbody>\n",
       "    <tr>\n",
       "      <td>0</td>\n",
       "      <td>alabama</td>\n",
       "    </tr>\n",
       "    <tr>\n",
       "      <td>1</td>\n",
       "      <td>alaska</td>\n",
       "    </tr>\n",
       "    <tr>\n",
       "      <td>2</td>\n",
       "      <td>arizona</td>\n",
       "    </tr>\n",
       "    <tr>\n",
       "      <td>3</td>\n",
       "      <td>arkansas</td>\n",
       "    </tr>\n",
       "    <tr>\n",
       "      <td>4</td>\n",
       "      <td>california</td>\n",
       "    </tr>\n",
       "  </tbody>\n",
       "</table>\n",
       "</div>"
      ],
      "text/plain": [
       "        State\n",
       "0     alabama\n",
       "1      alaska\n",
       "2     arizona\n",
       "3    arkansas\n",
       "4  california"
      ]
     },
     "execution_count": 7,
     "metadata": {},
     "output_type": "execute_result"
    }
   ],
   "source": [
    "# import states of USA\n",
    "states = np.array([state.name.lower() for state in us.states.STATES])\n",
    "states = pd.DataFrame(states).rename(columns = {0:'State'})\n",
    "states.head()"
   ]
  },
  {
   "cell_type": "code",
   "execution_count": 8,
   "metadata": {},
   "outputs": [],
   "source": [
    "# Extract the state for each team\n",
    "region = location_w_abb.copy()[['Division', 'City, State']]\n",
    "region['State'] = region['City, State'].str.split(', ').str[1].str.lower()\n",
    "region.loc[region.State == 'd.c.', 'State'] = 'district of columbia'\n",
    "region = region.drop(columns = ['City, State']).drop_duplicates()"
   ]
  },
  {
   "cell_type": "code",
   "execution_count": 9,
   "metadata": {},
   "outputs": [
    {
     "data": {
      "text/plain": [
       "region\n",
       "alabama              gray90\n",
       "alaska               gray90\n",
       "arizona       darkseagreen2\n",
       "arkansas             gray90\n",
       "california    darkseagreen2\n",
       "Name: color, dtype: object"
      ]
     },
     "execution_count": 9,
     "metadata": {},
     "output_type": "execute_result"
    }
   ],
   "source": [
    "# Merge two table\n",
    "TM_location = pd.merge(states,region, on = 'State', how = 'left').fillna('No_NBA')\n",
    "# Map color to each state\n",
    "color_dic = {}\n",
    "color_lst = [\"gray90\",\"darkseagreen2\",\"lightblue\",\"lightpink\",\"thistle2\",\"wheat\",\"tan1\"]\n",
    "i = 0\n",
    "for loc in TM_location.Division.unique():\n",
    "    color_dic[loc] = color_lst[i]\n",
    "    i +=1\n",
    "TM_location['color'] = TM_location['Division'].map(color_dic)\n",
    "location_color = TM_location.rename(columns = {'State': 'region'}).set_index('region')['color']\n",
    "location_color.head()"
   ]
  },
  {
   "cell_type": "markdown",
   "metadata": {},
   "source": [
    "Visualization in R"
   ]
  },
  {
   "cell_type": "code",
   "execution_count": 10,
   "metadata": {},
   "outputs": [],
   "source": [
    "%R -i nba_df\n",
    "%R -i nba_ggplot_color\n",
    "%R -i nba_ggplot_fill\n",
    "%R -i location_color"
   ]
  },
  {
   "cell_type": "code",
   "execution_count": 11,
   "metadata": {},
   "outputs": [],
   "source": [
    "%%R -w 10 -h 5 --units in -r 300\n",
    "usa <- map_data('state')\n",
    "canada <- map_data('worldHires', 'Canada')\n",
    "\n",
    "ggplot() +\n",
    "geom_polygon(data = usa, aes(x = long, y = lat, group = group, fill = region),\n",
    "             color = 'gray', size = 0.7) +\n",
    "scale_fill_manual(values = location_color) +\n",
    "guides(fill = F) +\n",
    "new_scale('fill') +\n",
    "geom_polygon(data = canada, aes(x = long, y = lat, group = group),\n",
    "             fill = 'grey90', color = 'gray', size = 0.5) +\n",
    "geom_point(data = nba_df, aes(x = longitude, y = latitude, size = Player, color = Team, fill = Team),\n",
    "           shape = 21, alpha = 0.7) +\n",
    "scale_size(name = 'Number of times\\nreceiving\\nPlayer of the Week', range = c(1, 10)) +\n",
    "new_scale('size') +\n",
    "geom_text(data = nba_df, aes(x = longitude, y = latitude, label = Abb, size = Player), \n",
    "          family = 'Avenir Next', fontface = 'bold', color = 'white') +\n",
    "scale_size(range = c(0, 3)) +\n",
    "# geom_label(data = nba_df, aes(x = longitude, y = latitude, label = Abb, color = Team, fill = Team), alpha = 0.8, size = 2,position = 'dodge') +\n",
    "scale_color_manual(values = nba_ggplot_color) +\n",
    "scale_fill_manual(values = nba_ggplot_fill) +\n",
    "coord_fixed(xlim = c(-125, -70), ylim = c(25, 50), ratio = 1.25) +\n",
    "theme_minimal() +\n",
    "theme(text = element_text(family = 'Avenir Next'),\n",
    "      axis.text = element_blank(),\n",
    "      axis.line = element_blank(),\n",
    "      axis.ticks = element_blank(),\n",
    "      panel.border = element_blank(),\n",
    "      panel.grid = element_blank(),\n",
    "      axis.title = element_blank(),\n",
    "      legend.title = element_text(face = 'bold', size = 10),\n",
    "      legend.position = 'None',\n",
    "      legend.background = element_rect(size = 0, fill = 'snow2')) +\n",
    "guides(fill = F, color = F, size = F, size = F, shape = F)\n",
    "\n",
    "ggsave('../vis/vis5.png', units = 'in', width = 10, height = 5)"
   ]
  }
 ],
 "metadata": {
  "kernelspec": {
   "display_name": "Python 3",
   "language": "python",
   "name": "python3"
  },
  "language_info": {
   "codemirror_mode": {
    "name": "ipython",
    "version": 3
   },
   "file_extension": ".py",
   "mimetype": "text/x-python",
   "name": "python",
   "nbconvert_exporter": "python",
   "pygments_lexer": "ipython3",
   "version": "3.7.4"
  }
 },
 "nbformat": 4,
 "nbformat_minor": 4
}
