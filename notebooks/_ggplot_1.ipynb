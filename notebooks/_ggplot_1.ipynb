{
 "cells": [
  {
   "cell_type": "markdown",
   "metadata": {},
   "source": [
    "## Visualization 1: Relationship between NBA Player of the Week and Player Statistics"
   ]
  },
  {
   "cell_type": "markdown",
   "metadata": {},
   "source": [
    "Note: This notebook requires `facetscales` which could be installed by running `devtools::install_github(\"zeehio/facetscales\")` in R"
   ]
  },
  {
   "cell_type": "code",
   "execution_count": 1,
   "metadata": {},
   "outputs": [],
   "source": [
    "%load_ext rpy2.ipython\n",
    "%R library(ggplot2)\n",
    "%R library(scales)\n",
    "%R library(facetscales)\n",
    "\n",
    "import pandas as pd\n",
    "import numpy as np\n",
    "from utils import pd2r"
   ]
  },
  {
   "cell_type": "markdown",
   "metadata": {},
   "source": [
    "Load the NBA POTW dataset"
   ]
  },
  {
   "cell_type": "code",
   "execution_count": 2,
   "metadata": {},
   "outputs": [],
   "source": [
    "nba_potw = pd2r(pd.read_csv('../data/raw/NBA_Player_of_the_Week.csv'))"
   ]
  },
  {
   "cell_type": "markdown",
   "metadata": {},
   "source": [
    "Count the number of POTWs received by each player per season and rename `Season short` to `Year`"
   ]
  },
  {
   "cell_type": "code",
   "execution_count": 3,
   "metadata": {},
   "outputs": [],
   "source": [
    "nba_potw_agg = (nba_potw.groupby(['Player', 'Season short'])[['Date']].count().reset_index()\n",
    "                .rename(columns = {'Season short': 'Year', 'Date': 'Potw_Count'}))"
   ]
  },
  {
   "cell_type": "markdown",
   "metadata": {},
   "source": [
    "Load the NBA Player Statistics dataset"
   ]
  },
  {
   "cell_type": "code",
   "execution_count": 4,
   "metadata": {},
   "outputs": [],
   "source": [
    "nba_player_stats = pd2r(pd.read_csv('../data/scraped/NBA_Player_Stats.csv'))"
   ]
  },
  {
   "cell_type": "markdown",
   "metadata": {},
   "source": [
    "Join the NBA POTW and Player Statistics datasets and insert 0 for `Potw_Count` for players who did not received POTW for the season"
   ]
  },
  {
   "cell_type": "code",
   "execution_count": 5,
   "metadata": {},
   "outputs": [],
   "source": [
    "nba_player = pd.merge(left = nba_player_stats, right = nba_potw_agg, on = ['Player', 'Year'], how = 'left')\n",
    "nba_player.Potw_Count = nba_player.Potw_Count.where((pd.notnull(nba_player.Potw_Count)), 0)"
   ]
  },
  {
   "cell_type": "markdown",
   "metadata": {},
   "source": [
    "Rename columns with `%` to avoid errors and calculate the mean statistics for the group of players who recieved POTW and those who did not"
   ]
  },
  {
   "cell_type": "code",
   "execution_count": 6,
   "metadata": {},
   "outputs": [],
   "source": [
    "nba_player['MP_Prct'] = nba_player['MP'] / 48\n",
    "nba_player['eFG_Prct'] = nba_player['eFG%']\n",
    "nba_player['FT_Prct'] = nba_player['FT%']\n",
    "nba_player['isPotw'] = np.where(nba_player['Potw_Count'] > 0, 'Yes', 'No')\n",
    "nba_player_potw = (nba_player.groupby(['Year', 'isPotw'])[['G', 'MP_Prct', 'eFG_Prct', 'TRB', 'AST', 'STL']]\n",
    "                   .mean().reset_index())"
   ]
  },
  {
   "cell_type": "markdown",
   "metadata": {},
   "source": [
    "Only consider data after the 1989 - 1990 season to align with the Salary dataset"
   ]
  },
  {
   "cell_type": "code",
   "execution_count": 7,
   "metadata": {},
   "outputs": [],
   "source": [
    "nba_player_potw = nba_player_potw.loc[nba_player_potw.Year > 1990]"
   ]
  },
  {
   "cell_type": "markdown",
   "metadata": {},
   "source": [
    "Stack the data and rename columns"
   ]
  },
  {
   "cell_type": "code",
   "execution_count": 8,
   "metadata": {},
   "outputs": [],
   "source": [
    "nba_player_df = (nba_player_potw.set_index(['Year', 'isPotw']).stack()\n",
    "                 .reset_index().rename(columns = {'level_2': 'Stat', 0: 'Val'}))"
   ]
  },
  {
   "cell_type": "markdown",
   "metadata": {},
   "source": [
    "Pipe DataFrame into R"
   ]
  },
  {
   "cell_type": "code",
   "execution_count": 9,
   "metadata": {},
   "outputs": [],
   "source": [
    "%R -i nba_player_df"
   ]
  },
  {
   "cell_type": "markdown",
   "metadata": {},
   "source": [
    "Draw `ggplot`"
   ]
  },
  {
   "cell_type": "code",
   "execution_count": 10,
   "metadata": {},
   "outputs": [],
   "source": [
    "%%R -w 10 -h 8 --units in -r 300\n",
    "season <- function(x) {\n",
    "    paste(x - 1, '-', x)\n",
    "}\n",
    "\n",
    "scales_y <- list(\n",
    "    G = scale_y_continuous(),\n",
    "    MP_Prct = scale_y_continuous(labels = percent),\n",
    "    eFG_Prct = scale_y_continuous(labels = percent),\n",
    "    TRB = scale_y_continuous(),\n",
    "    AST = scale_y_continuous(),\n",
    "    STL = scale_y_continuous()\n",
    ")\n",
    "facet_labels <- c(\n",
    "    G = 'Mean Games\\nPlayed',\n",
    "    MP_Prct = 'Mean Minutes\\nPlayed Per Game',\n",
    "    eFG_Prct = 'Mean Effective\\nField Goal',\n",
    "    TRB = 'Mean Rebounds\\nPer Game',\n",
    "    AST = 'Mean Assists\\nPer Game',\n",
    "    STL = 'Mean Steals\\nPer Game'\n",
    ")\n",
    "\n",
    "ggplot() +\n",
    "geom_line(aes(x = Year, y = Val, color = isPotw), data = nba_player_df, alpha = 0.8) +\n",
    "geom_point(aes(x = Year, y = Val), data = nba_player_df, color = 'white') +\n",
    "geom_point(aes(x = Year, y = Val, color = isPotw), data = nba_player_df, alpha = 0.8) +\n",
    "facet_grid_sc(rows = vars(Stat), scales = list(y = scales_y), labeller = as_labeller(facet_labels)) +\n",
    "scale_x_continuous(name = '\\nSeason', label = season,\n",
    "                   limit = c(1991, 2020), breaks = seq(1990, 2020, 5)) +\n",
    "scale_color_manual(name = 'Player of the Week?', values = c('gray', '#FA8320')) +\n",
    "ylab('Player Statistics\\n') +\n",
    "theme_light() +\n",
    "theme(text = element_text(family = 'Avenir Next'),\n",
    "      axis.title = element_text(face = 'bold'),\n",
    "      legend.title = element_text(face = 'bold'),\n",
    "      legend.position = 'bottom',\n",
    "      legend.background = element_rect(size = 0, fill = 'snow2'),\n",
    "      legend.key = element_rect(fill = 'snow2'))\n",
    "\n",
    "ggsave('../vis/vis1.png', units = 'in', width = 10, height = 8)"
   ]
  }
 ],
 "metadata": {
  "kernelspec": {
   "display_name": "Python 3",
   "language": "python",
   "name": "python3"
  },
  "language_info": {
   "codemirror_mode": {
    "name": "ipython",
    "version": 3
   },
   "file_extension": ".py",
   "mimetype": "text/x-python",
   "name": "python",
   "nbconvert_exporter": "python",
   "pygments_lexer": "ipython3",
   "version": "3.7.4"
  }
 },
 "nbformat": 4,
 "nbformat_minor": 4
}
