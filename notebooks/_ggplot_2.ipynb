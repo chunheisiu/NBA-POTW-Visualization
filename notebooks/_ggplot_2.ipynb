{
 "cells": [
  {
   "cell_type": "markdown",
   "metadata": {},
   "source": [
    "## Visualization 2: Relationship between NBA Player of the Week and Player Salary"
   ]
  },
  {
   "cell_type": "code",
   "execution_count": 1,
   "metadata": {},
   "outputs": [],
   "source": [
    "%load_ext rpy2.ipython\n",
    "%R library(ggplot2)\n",
    "\n",
    "import pandas as pd\n",
    "import numpy as np\n",
    "from utils import pd2r"
   ]
  },
  {
   "cell_type": "markdown",
   "metadata": {},
   "source": [
    "### Load Datasets: Player of the Week & Salary"
   ]
  },
  {
   "cell_type": "code",
   "execution_count": 2,
   "metadata": {},
   "outputs": [],
   "source": [
    "## Player of week\n",
    "POTW = pd2r(pd.read_csv('../data/raw/NBA_Player_of_the_Week.csv'))"
   ]
  },
  {
   "cell_type": "code",
   "execution_count": 3,
   "metadata": {},
   "outputs": [],
   "source": [
    "## Salary\n",
    "pd.set_option('display.max_columns', 999)\n",
    "SLR = pd2r(pd.read_csv('../data/cleaned/NBA_Salary.csv'))"
   ]
  },
  {
   "cell_type": "markdown",
   "metadata": {},
   "source": [
    "### Datasets Manipulation"
   ]
  },
  {
   "cell_type": "markdown",
   "metadata": {},
   "source": [
    "Merge Two datasets"
   ]
  },
  {
   "cell_type": "code",
   "execution_count": 4,
   "metadata": {},
   "outputs": [
    {
     "name": "stdout",
     "output_type": "stream",
     "text": [
      "<class 'pandas.core.frame.DataFrame'>\n",
      "Int64Index: 12415 entries, 0 to 12414\n",
      "Data columns (total 5 columns):\n",
      "Player        12415 non-null object\n",
      "Salary        12415 non-null float64\n",
      "Year          12415 non-null int64\n",
      "Franchise     12415 non-null object\n",
      "POTW_Count    12415 non-null float64\n",
      "dtypes: float64(2), int64(1), object(2)\n",
      "memory usage: 582.0+ KB\n"
     ]
    }
   ],
   "source": [
    "POTW_count = POTW.groupby(['Season short','Player','Team']).count()['Date'].reset_index().rename(columns = {'Date': 'POTW_Count'})\n",
    "slr_new = SLR.drop(columns = ['Season Start', 'Team'])\n",
    "slr_potw = pd.merge(slr_new, POTW_count, left_on=['Player Name', 'Season End'], right_on=['Player','Season short'], how = 'left')\n",
    "slr_potw.loc[slr_potw.Player.isna(), 'POTW_Count'] = 0\n",
    "slr_potw_new = slr_potw.drop(columns= ['Season short','Player','Team']).rename(columns = {'Player Name': 'Player', 'Season End':'Year','Salary in $':'Salary'})\n",
    "slr_potw_new['Salary'] = round(slr_potw_new['Salary'] /1000000, 2)\n",
    "slr_potw_new.info()"
   ]
  },
  {
   "cell_type": "markdown",
   "metadata": {},
   "source": [
    "Meadian Salary of NBA per year"
   ]
  },
  {
   "cell_type": "code",
   "execution_count": 5,
   "metadata": {},
   "outputs": [],
   "source": [
    "slr_potw_median = slr_potw_new.groupby('Year')[['Salary']].median().reset_index()"
   ]
  },
  {
   "cell_type": "markdown",
   "metadata": {},
   "source": [
    "Meadian Salaries for POTW and Not POTW"
   ]
  },
  {
   "cell_type": "code",
   "execution_count": 6,
   "metadata": {},
   "outputs": [
    {
     "data": {
      "text/html": [
       "<div>\n",
       "<style scoped>\n",
       "    .dataframe tbody tr th:only-of-type {\n",
       "        vertical-align: middle;\n",
       "    }\n",
       "\n",
       "    .dataframe tbody tr th {\n",
       "        vertical-align: top;\n",
       "    }\n",
       "\n",
       "    .dataframe thead th {\n",
       "        text-align: right;\n",
       "    }\n",
       "</style>\n",
       "<table border=\"1\" class=\"dataframe\">\n",
       "  <thead>\n",
       "    <tr style=\"text-align: right;\">\n",
       "      <th></th>\n",
       "      <th>Year</th>\n",
       "      <th>Is_POTW</th>\n",
       "      <th>Salary</th>\n",
       "    </tr>\n",
       "  </thead>\n",
       "  <tbody>\n",
       "    <tr>\n",
       "      <td>0</td>\n",
       "      <td>1991</td>\n",
       "      <td>No</td>\n",
       "      <td>0.62</td>\n",
       "    </tr>\n",
       "    <tr>\n",
       "      <td>1</td>\n",
       "      <td>1991</td>\n",
       "      <td>Yes</td>\n",
       "      <td>1.37</td>\n",
       "    </tr>\n",
       "    <tr>\n",
       "      <td>2</td>\n",
       "      <td>1992</td>\n",
       "      <td>No</td>\n",
       "      <td>0.70</td>\n",
       "    </tr>\n",
       "    <tr>\n",
       "      <td>3</td>\n",
       "      <td>1992</td>\n",
       "      <td>Yes</td>\n",
       "      <td>2.24</td>\n",
       "    </tr>\n",
       "    <tr>\n",
       "      <td>4</td>\n",
       "      <td>1993</td>\n",
       "      <td>No</td>\n",
       "      <td>0.80</td>\n",
       "    </tr>\n",
       "  </tbody>\n",
       "</table>\n",
       "</div>"
      ],
      "text/plain": [
       "   Year Is_POTW  Salary\n",
       "0  1991      No    0.62\n",
       "1  1991     Yes    1.37\n",
       "2  1992      No    0.70\n",
       "3  1992     Yes    2.24\n",
       "4  1993      No    0.80"
      ]
     },
     "execution_count": 6,
     "metadata": {},
     "output_type": "execute_result"
    }
   ],
   "source": [
    "slr_potw_new.loc[slr_potw_new.POTW_Count == 0, 'Is_POTW'] = 'No'\n",
    "slr_potw_new.loc[slr_potw_new.POTW_Count != 0, 'Is_POTW'] = 'Yes'\n",
    "slr_vs_count = slr_potw_new.groupby(['Year','Is_POTW'])[['Salary']].median().reset_index()\n",
    "slr_vs_count.head()"
   ]
  },
  {
   "cell_type": "markdown",
   "metadata": {},
   "source": [
    "Divide into 2 datasets: potw salary and not potw salary"
   ]
  },
  {
   "cell_type": "code",
   "execution_count": 7,
   "metadata": {},
   "outputs": [],
   "source": [
    "potw_salary = slr_potw_new.loc[slr_potw_new.Is_POTW == 'Yes']\n",
    "Not_potw_salary = slr_potw_new.loc[slr_potw_new.Is_POTW == 'No']"
   ]
  },
  {
   "cell_type": "markdown",
   "metadata": {},
   "source": [
    "Creat an Annotation Dataset"
   ]
  },
  {
   "cell_type": "code",
   "execution_count": 8,
   "metadata": {},
   "outputs": [],
   "source": [
    "annote_slr_potw1 = slr_vs_count.loc[slr_vs_count.Year == 1991]\n",
    "annote_slr_potw2 = slr_vs_count.loc[slr_vs_count.Year == 2019]"
   ]
  },
  {
   "cell_type": "markdown",
   "metadata": {},
   "source": [
    "### Visualization in R"
   ]
  },
  {
   "cell_type": "code",
   "execution_count": 9,
   "metadata": {},
   "outputs": [],
   "source": [
    "%R -i slr_potw_median\n",
    "%R -i slr_vs_count\n",
    "%R -i annote_slr_potw1\n",
    "%R -i annote_slr_potw2\n",
    "%R -i potw_salary\n",
    "%R -i Not_potw_salary"
   ]
  },
  {
   "cell_type": "code",
   "execution_count": 10,
   "metadata": {},
   "outputs": [],
   "source": [
    "%%R -w 14 -h 8 --units in -r 300\n",
    "season <- function(x) {\n",
    "    paste(x - 1,'-', x)\n",
    "}\n",
    "\n",
    "ggplot() +\n",
    "geom_jitter(aes(x = Year, y = Salary), data = Not_potw_salary, color = 'grey', alpha = 0.1) +\n",
    "geom_jitter(aes(x = Year, y = Salary, size = POTW_Count), data = potw_salary, color = '#FA8320', alpha = 0.3) +\n",
    "theme_minimal(base_size = 17) +\n",
    "geom_line(aes(x = Year, y = Salary, color = Is_POTW), data = slr_vs_count, alpha = 0.7, size = 2) +\n",
    "geom_text(aes(x = Year, y = Salary, label = Salary, color = Is_POTW), size = 4, fontface = 'bold',\n",
    "          data = annote_slr_potw1, vjust = 0.5, hjust = 1.5, family = 'Avenir Next') +\n",
    "geom_text(aes(x = Year, y = Salary, label = Salary, color = Is_POTW), size = 5.5, fontface = 'bold',\n",
    "          data = annote_slr_potw2, vjust = 1.25, hjust = -0.2, family = 'Avenir Next') +\n",
    "scale_color_manual(values=c(\"grey2\", \"#FA8320\")) +\n",
    "geom_point(aes(x = Year, y = Salary, color = Is_POTW), data = annote_slr_potw1, position = \"dodge\", size = 5) +\n",
    "geom_point(aes(x = Year, y = Salary, color = Is_POTW), data = annote_slr_potw2, position = \"dodge\", size = 5) +\n",
    "geom_text(aes(x = 2018.5, y = 20.75, label = 'Avg Salary\\nof POTW'), size = 5.5, color = '#FA8320',\n",
    "          hjust = 0, fontface = 'bold', family = 'Avenir Next') +\n",
    "geom_text(aes(x = 2018.5, y = 4.5, label = 'Avg Salary of\\nNon-POTW'), size = 5.5, color = 'grey1',\n",
    "          alpha = 0.8, hjust = 'right', fontface = 'bold', family = 'Avenir Next') +\n",
    "xlab(\"\\nYear\") + \n",
    "ylab(\"Salary ($ in Millions) \\n\") +\n",
    "# scale_colour_gradient(low = 'snow2', high = 'steelblue') +\n",
    "scale_x_continuous(limits = c(1990, 2020), , breaks = seq(1990, 2020, by = 5), name = \"\\nSeason\", label = season) +\n",
    "scale_y_continuous(limits = c(0, 24), breaks = seq(0, 24, by = 2)) +\n",
    "theme(text = element_text(family = 'Avenir Next'),\n",
    "      axis.title = element_text(face = 'bold'), axis.ticks = element_blank(),\n",
    "      axis.line = element_blank(),\n",
    "      panel.grid.major = element_blank(),\n",
    "      panel.grid.minor = element_blank()) +\n",
    "guides(colour = F, size = F)\n",
    "\n",
    "ggsave('../vis/vis2.png', units = 'in', width = 14, height = 8)"
   ]
  }
 ],
 "metadata": {
  "kernelspec": {
   "display_name": "Python 3",
   "language": "python",
   "name": "python3"
  },
  "language_info": {
   "codemirror_mode": {
    "name": "ipython",
    "version": 3
   },
   "file_extension": ".py",
   "mimetype": "text/x-python",
   "name": "python",
   "nbconvert_exporter": "python",
   "pygments_lexer": "ipython3",
   "version": "3.7.4"
  }
 },
 "nbformat": 4,
 "nbformat_minor": 4
}
