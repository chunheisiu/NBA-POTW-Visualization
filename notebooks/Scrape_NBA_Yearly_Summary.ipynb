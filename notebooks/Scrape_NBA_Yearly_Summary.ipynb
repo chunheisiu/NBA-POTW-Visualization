{
 "cells": [
  {
   "cell_type": "code",
   "execution_count": 1,
   "metadata": {},
   "outputs": [],
   "source": [
    "from urllib.request import urlopen\n",
    "from bs4 import BeautifulSoup\n",
    "import numpy as np\n",
    "import pandas as pd"
   ]
  },
  {
   "cell_type": "code",
   "execution_count": 2,
   "metadata": {},
   "outputs": [],
   "source": [
    "def get_stars(year):\n",
    "    url = f'https://www.basketball-reference.com/leagues/NBA_{ year }_per_game.html'\n",
    "    html = urlopen(url)\n",
    "    soup = BeautifulSoup(html)\n",
    "    headers = [title.strong.getText() for title in soup.findAll('p') if title.strong]\n",
    "    stars = [name.a.getText() for name in soup.findAll('p')[2:] if name.a]\n",
    "    headers = headers[:7]\n",
    "    stars = stars[:7]\n",
    "    summary = pd.DataFrame(data = stars).T\n",
    "    summary.columns = headers\n",
    "    summary.insert(0,'Year',year)\n",
    "    return summary"
   ]
  },
  {
   "cell_type": "code",
   "execution_count": 3,
   "metadata": {},
   "outputs": [
    {
     "name": "stdout",
     "output_type": "stream",
     "text": [
      "<class 'pandas.core.frame.DataFrame'>\n",
      "Int64Index: 35 entries, 0 to 0\n",
      "Data columns (total 8 columns):\n",
      "Year                    35 non-null int64\n",
      "League Champion         35 non-null object\n",
      "Most Valuable Player    35 non-null object\n",
      "Rookie of the Year      35 non-null object\n",
      "PPG Leader              35 non-null object\n",
      "RPG Leader              35 non-null object\n",
      "APG Leader              35 non-null object\n",
      "WS Leader               35 non-null object\n",
      "dtypes: int64(1), object(7)\n",
      "memory usage: 2.5+ KB\n"
     ]
    }
   ],
   "source": [
    "year_range = range(1985,2020)\n",
    "summary = pd.DataFrame()\n",
    "for year in year_range:\n",
    "    stats = get_stars(year)\n",
    "    summary = pd.concat([summary,stats])\n",
    "summary.info()"
   ]
  },
  {
   "cell_type": "code",
   "execution_count": 4,
   "metadata": {},
   "outputs": [
    {
     "data": {
      "text/html": [
       "<div>\n",
       "<style scoped>\n",
       "    .dataframe tbody tr th:only-of-type {\n",
       "        vertical-align: middle;\n",
       "    }\n",
       "\n",
       "    .dataframe tbody tr th {\n",
       "        vertical-align: top;\n",
       "    }\n",
       "\n",
       "    .dataframe thead th {\n",
       "        text-align: right;\n",
       "    }\n",
       "</style>\n",
       "<table border=\"1\" class=\"dataframe\">\n",
       "  <thead>\n",
       "    <tr style=\"text-align: right;\">\n",
       "      <th></th>\n",
       "      <th>Year</th>\n",
       "      <th>League Champion</th>\n",
       "      <th>Most Valuable Player</th>\n",
       "      <th>Rookie of the Year</th>\n",
       "      <th>PPG Leader</th>\n",
       "      <th>RPG Leader</th>\n",
       "      <th>APG Leader</th>\n",
       "      <th>WS Leader</th>\n",
       "    </tr>\n",
       "  </thead>\n",
       "  <tbody>\n",
       "    <tr>\n",
       "      <td>0</td>\n",
       "      <td>1985</td>\n",
       "      <td>Los Angeles Lakers</td>\n",
       "      <td>Larry Bird</td>\n",
       "      <td>Michael Jordan</td>\n",
       "      <td>Bernard King</td>\n",
       "      <td>Moses Malone</td>\n",
       "      <td>Isiah Thomas</td>\n",
       "      <td>Larry Bird</td>\n",
       "    </tr>\n",
       "    <tr>\n",
       "      <td>0</td>\n",
       "      <td>1986</td>\n",
       "      <td>Boston Celtics</td>\n",
       "      <td>Larry Bird</td>\n",
       "      <td>Patrick Ewing</td>\n",
       "      <td>Dominique Wilkins</td>\n",
       "      <td>Bill Laimbeer</td>\n",
       "      <td>Magic Johnson</td>\n",
       "      <td>Larry Bird</td>\n",
       "    </tr>\n",
       "    <tr>\n",
       "      <td>0</td>\n",
       "      <td>1987</td>\n",
       "      <td>Los Angeles Lakers</td>\n",
       "      <td>Magic Johnson</td>\n",
       "      <td>Chuck Person</td>\n",
       "      <td>Michael Jordan</td>\n",
       "      <td>Charles Barkley</td>\n",
       "      <td>Magic Johnson</td>\n",
       "      <td>Michael Jordan</td>\n",
       "    </tr>\n",
       "    <tr>\n",
       "      <td>0</td>\n",
       "      <td>1988</td>\n",
       "      <td>Los Angeles Lakers</td>\n",
       "      <td>Michael Jordan</td>\n",
       "      <td>Mark Jackson</td>\n",
       "      <td>Michael Jordan</td>\n",
       "      <td>Michael Cage</td>\n",
       "      <td>John Stockton</td>\n",
       "      <td>Michael Jordan</td>\n",
       "    </tr>\n",
       "    <tr>\n",
       "      <td>0</td>\n",
       "      <td>1989</td>\n",
       "      <td>Detroit Pistons</td>\n",
       "      <td>Magic Johnson</td>\n",
       "      <td>Mitch Richmond</td>\n",
       "      <td>Michael Jordan</td>\n",
       "      <td>Hakeem Olajuwon</td>\n",
       "      <td>John Stockton</td>\n",
       "      <td>Michael Jordan</td>\n",
       "    </tr>\n",
       "  </tbody>\n",
       "</table>\n",
       "</div>"
      ],
      "text/plain": [
       "   Year     League Champion Most Valuable Player Rookie of the Year  \\\n",
       "0  1985  Los Angeles Lakers           Larry Bird     Michael Jordan   \n",
       "0  1986      Boston Celtics           Larry Bird      Patrick Ewing   \n",
       "0  1987  Los Angeles Lakers        Magic Johnson       Chuck Person   \n",
       "0  1988  Los Angeles Lakers       Michael Jordan       Mark Jackson   \n",
       "0  1989     Detroit Pistons        Magic Johnson     Mitch Richmond   \n",
       "\n",
       "          PPG Leader       RPG Leader     APG Leader       WS Leader  \n",
       "0       Bernard King     Moses Malone   Isiah Thomas      Larry Bird  \n",
       "0  Dominique Wilkins    Bill Laimbeer  Magic Johnson      Larry Bird  \n",
       "0     Michael Jordan  Charles Barkley  Magic Johnson  Michael Jordan  \n",
       "0     Michael Jordan     Michael Cage  John Stockton  Michael Jordan  \n",
       "0     Michael Jordan  Hakeem Olajuwon  John Stockton  Michael Jordan  "
      ]
     },
     "execution_count": 4,
     "metadata": {},
     "output_type": "execute_result"
    }
   ],
   "source": [
    "summary.head()"
   ]
  },
  {
   "cell_type": "code",
   "execution_count": 5,
   "metadata": {},
   "outputs": [],
   "source": [
    "summary.to_csv('../data/scraped/NBA_Yearly_Summary.csv', index = False)"
   ]
  }
 ],
 "metadata": {
  "kernelspec": {
   "display_name": "Python 3",
   "language": "python",
   "name": "python3"
  },
  "language_info": {
   "codemirror_mode": {
    "name": "ipython",
    "version": 3
   },
   "file_extension": ".py",
   "mimetype": "text/x-python",
   "name": "python",
   "nbconvert_exporter": "python",
   "pygments_lexer": "ipython3",
   "version": "3.7.4"
  }
 },
 "nbformat": 4,
 "nbformat_minor": 4
}
