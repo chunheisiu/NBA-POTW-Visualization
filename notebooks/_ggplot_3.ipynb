{
 "cells": [
  {
   "cell_type": "markdown",
   "metadata": {},
   "source": [
    "## Visualization 3: Relationship between NBA Player of the Week and Champion Team"
   ]
  },
  {
   "cell_type": "code",
   "execution_count": 1,
   "metadata": {},
   "outputs": [],
   "source": [
    "%load_ext rpy2.ipython\n",
    "%R library(ggplot2)\n",
    "\n",
    "import pandas as pd\n",
    "import numpy as np\n",
    "from utils import pd2r"
   ]
  },
  {
   "cell_type": "markdown",
   "metadata": {},
   "source": [
    "Load the NBA POTW dataset"
   ]
  },
  {
   "cell_type": "code",
   "execution_count": 2,
   "metadata": {},
   "outputs": [],
   "source": [
    "nba_potw = pd2r(pd.read_csv('../data/raw/NBA_Player_of_the_Week.csv'))"
   ]
  },
  {
   "cell_type": "markdown",
   "metadata": {},
   "source": [
    "Count the number of POTWs received by each team per season and rename `Season short` to `Year`"
   ]
  },
  {
   "cell_type": "code",
   "execution_count": 3,
   "metadata": {},
   "outputs": [],
   "source": [
    "nba_potw_team_agg = (nba_potw.groupby(['Team', 'Season short'])[['Date']].count().reset_index()\n",
    "                     .rename(columns = {'Season short': 'Year', 'Date': 'Potw_Count'}))"
   ]
  },
  {
   "cell_type": "markdown",
   "metadata": {},
   "source": [
    "Load the NBA Yearly Summary dataset and assign the `isChampion` flag to the champion team per season"
   ]
  },
  {
   "cell_type": "code",
   "execution_count": 4,
   "metadata": {},
   "outputs": [],
   "source": [
    "nba_summary = pd.read_csv('../data/scraped/NBA_Yearly_Summary.csv')\n",
    "nba_summary = nba_summary[['Year', 'League Champion']].rename(columns = {'League Champion': 'Team'}).assign(isChampion = 'Yes')"
   ]
  },
  {
   "cell_type": "markdown",
   "metadata": {},
   "source": [
    "Load the NBA Team Colors dataset"
   ]
  },
  {
   "cell_type": "code",
   "execution_count": 5,
   "metadata": {},
   "outputs": [],
   "source": [
    "nba_colors = pd.read_csv('../data/scraped/NBA_Teams_Color.csv')"
   ]
  },
  {
   "cell_type": "markdown",
   "metadata": {},
   "source": [
    "Join the NBA POTW and Yearly Summary datasets and insert \"No\" for `isChampion` for teams who did not win for the season"
   ]
  },
  {
   "cell_type": "code",
   "execution_count": 6,
   "metadata": {},
   "outputs": [],
   "source": [
    "nba_df = pd.merge(nba_potw_team_agg, nba_summary, on = ['Year', 'Team'], how = 'left')\n",
    "nba_df.isChampion = nba_df.isChampion.where((pd.notnull(nba_df.isChampion)), 'No')"
   ]
  },
  {
   "cell_type": "markdown",
   "metadata": {},
   "source": [
    "Assign the `isMaxPotw` flag to the team with the largest number of POTW"
   ]
  },
  {
   "cell_type": "code",
   "execution_count": 7,
   "metadata": {},
   "outputs": [],
   "source": [
    "max_potw = nba_df.groupby('Year')[['Potw_Count']].max().reset_index().assign(isMaxPotw = 'Yes')\n",
    "nba_df_potw = pd.merge(nba_df, max_potw, on = ['Year', 'Potw_Count'], how = 'left')\n",
    "nba_df_potw.isMaxPotw = nba_df_potw.isMaxPotw.where((pd.notnull(nba_df_potw.isMaxPotw)), 'No')"
   ]
  },
  {
   "cell_type": "markdown",
   "metadata": {},
   "source": [
    "Only consider data after the 1989 - 1990 season to align with the Salary dataset"
   ]
  },
  {
   "cell_type": "code",
   "execution_count": 8,
   "metadata": {},
   "outputs": [],
   "source": [
    "nba_df_potw = nba_df_potw.loc[nba_df_potw.Year > 1990]"
   ]
  },
  {
   "cell_type": "markdown",
   "metadata": {},
   "source": [
    "Find the misidentified teams from the dataset"
   ]
  },
  {
   "cell_type": "code",
   "execution_count": 9,
   "metadata": {},
   "outputs": [
    {
     "data": {
      "text/plain": [
       "['Charlotte Bobcats',\n",
       " 'New Jersey Nets',\n",
       " 'New Orleans Hornets',\n",
       " 'Philadelphia Sixers',\n",
       " 'Washington Bullets']"
      ]
     },
     "execution_count": 9,
     "metadata": {},
     "output_type": "execute_result"
    }
   ],
   "source": [
    "nba_color_missing = pd.merge(nba_df, nba_colors, left_on = 'Team', right_on = 'Franchise', how = 'left')\n",
    "list(nba_color_missing.loc[nba_color_missing.Color1.isna()]['Team'].unique())"
   ]
  },
  {
   "cell_type": "markdown",
   "metadata": {},
   "source": [
    "Rename the misidentified teams"
   ]
  },
  {
   "cell_type": "code",
   "execution_count": 10,
   "metadata": {},
   "outputs": [],
   "source": [
    "missing_teams = {'Charlotte Bobcats': 'Charlotte Hornets', 'New Jersey Nets': 'Brooklyn Nets', 'New Orleans Hornets': 'New Orleans Pelicans', 'Philadelphia Sixers': 'Philadelphia 76ers', 'Washington Bullets': 'Washington Wizards'}\n",
    "nba_df['Team'] = nba_df['Team'].replace(missing_teams)"
   ]
  },
  {
   "cell_type": "markdown",
   "metadata": {},
   "source": [
    "Extract the team colors from the dataset"
   ]
  },
  {
   "cell_type": "code",
   "execution_count": 11,
   "metadata": {},
   "outputs": [],
   "source": [
    "nba_colors = nba_colors.set_index('Franchise')\n",
    "nba_ggplot_fill = nba_colors['Color1']\n",
    "nba_ggplot_color = nba_colors['Color2']"
   ]
  },
  {
   "cell_type": "markdown",
   "metadata": {},
   "source": [
    "Extract the champion teams and non-champion teams"
   ]
  },
  {
   "cell_type": "code",
   "execution_count": 12,
   "metadata": {},
   "outputs": [],
   "source": [
    "nba_champ = nba_df_potw.loc[nba_df_potw.isChampion == 'Yes']\n",
    "nba_nonchamp_maxpotw = nba_df_potw.loc[(nba_df_potw.isChampion == 'No') & (nba_df_potw.isMaxPotw == 'Yes')]\n",
    "nba_nonchamp_nonpotw = nba_df_potw.loc[(nba_df_potw.isChampion == 'No') & (nba_df_potw.isMaxPotw == 'No')]"
   ]
  },
  {
   "cell_type": "markdown",
   "metadata": {},
   "source": [
    "Filter non-champion teams that has the same number of POTW as the champion team for the season "
   ]
  },
  {
   "cell_type": "code",
   "execution_count": 13,
   "metadata": {},
   "outputs": [],
   "source": [
    "nba_champ_potw = nba_champ[['Year', 'Potw_Count']].assign(isSameMaxPotw = 'Yes')\n",
    "nba_nonchamp_potw = pd.merge(nba_nonchamp_maxpotw, nba_champ_potw, on = ['Year', 'Potw_Count'], how = 'left')\n",
    "nba_nonchamp_potw.isSameMaxPotw = nba_nonchamp_potw.isSameMaxPotw.where((pd.notnull(nba_nonchamp_potw.isSameMaxPotw)), 'No')\n",
    "nba_nonchamp_potw = nba_nonchamp_potw.loc[(nba_nonchamp_potw.isSameMaxPotw == 'No')]"
   ]
  },
  {
   "cell_type": "markdown",
   "metadata": {},
   "source": [
    "Add the Abbreviation for the champion team name "
   ]
  },
  {
   "cell_type": "code",
   "execution_count": 14,
   "metadata": {},
   "outputs": [],
   "source": [
    "nba_Abb = pd.read_csv('../data/scraped/NBA_Teams_Abb.csv').rename(columns = {'Franchise': 'Team'})\n",
    "nba_champ = pd.merge(nba_champ, nba_Abb, on = 'Team').rename(columns = {'Abbreviation/Acronym': 'Abb'})"
   ]
  },
  {
   "cell_type": "markdown",
   "metadata": {},
   "source": [
    "Pipe DataFrames into R"
   ]
  },
  {
   "cell_type": "code",
   "execution_count": 15,
   "metadata": {},
   "outputs": [],
   "source": [
    "%R -i nba_champ\n",
    "%R -i nba_nonchamp_potw\n",
    "%R -i nba_nonchamp_nonpotw\n",
    "%R -i nba_ggplot_color\n",
    "%R -i nba_ggplot_fill"
   ]
  },
  {
   "cell_type": "markdown",
   "metadata": {},
   "source": [
    "Draw `ggplot`"
   ]
  },
  {
   "cell_type": "code",
   "execution_count": 16,
   "metadata": {},
   "outputs": [],
   "source": [
    "%%R -w 12 -h 8 --units in -r 300\n",
    "season <- function(x) {\n",
    "    paste(x - 1, '-', x)\n",
    "}\n",
    "\n",
    "labels_msg <- 'The labels indicate the champion team of the season.'\n",
    "basketball_msg <- 'The basketballs indicate that\\nat least one non-champion team\\nhas the most Player of the Week\\nfor that season.'\n",
    "\n",
    "ggplot() +\n",
    "geom_point(aes(x = Year, y = Potw_Count), data = nba_nonchamp_potw, color = '#FA8320', size = 7.5) +\n",
    "geom_point(aes(x = Year, y = Potw_Count), data = nba_nonchamp_potw, size = 7.5, shape = 10) +\n",
    "geom_text(aes(x = Year, y = Potw_Count, label = ') ('), data = nba_nonchamp_potw,\n",
    "          size = 5.4, nudge_x = 0.005, nudge_y = 0.01, family = 'Avenir Next') +\n",
    "geom_point(aes(x = Year, y = Potw_Count), data = nba_nonchamp_nonpotw,\n",
    "           color = 'darkgray', size = 2, alpha = 0.25, position = 'jitter') +\n",
    "geom_label(aes(x = Year, y = Potw_Count, color = Team, fill = Team, label = Abb),\n",
    "           data = nba_champ, size = 3, family = 'Avenir Next', fontface = 'bold') +\n",
    "annotate('text', x = 1991, y = 7.75, label = labels_msg, size = 5,\n",
    "         family = 'Avenir Next', fontface = 'bold', hjust = 'left', vjust = 'middle') +\n",
    "annotate('text', x = 1991, y = 6.75, label = basketball_msg, size = 5,\n",
    "         family = 'Avenir Next', fontface = 'bold', hjust = 'left', vjust = 'middle') +\n",
    "scale_color_manual(values = nba_ggplot_color) +\n",
    "scale_fill_manual(values = nba_ggplot_fill) +\n",
    "scale_x_continuous(name = '\\nSeason', label = season, limit = c(1991, 2020),\n",
    "                   breaks = seq(1990, 2020, 5), minor_breaks = seq(1991, 2019, 1)) +\n",
    "scale_y_continuous(name = 'Number of times receiving Player of the Week\\n', breaks = seq(0, 8, 1)) +\n",
    "theme_minimal() +\n",
    "theme(text = element_text(family = 'Avenir Next'),\n",
    "      axis.title = element_text(face = 'bold'),\n",
    "      legend.position = 'none') +\n",
    "guides(fill = F, color = F, shape = F)\n",
    "\n",
    "ggsave('../vis/vis3.png', units = 'in', width = 12, height = 8)"
   ]
  }
 ],
 "metadata": {
  "kernelspec": {
   "display_name": "Python 3",
   "language": "python",
   "name": "python3"
  },
  "language_info": {
   "codemirror_mode": {
    "name": "ipython",
    "version": 3
   },
   "file_extension": ".py",
   "mimetype": "text/x-python",
   "name": "python",
   "nbconvert_exporter": "python",
   "pygments_lexer": "ipython3",
   "version": "3.7.4"
  }
 },
 "nbformat": 4,
 "nbformat_minor": 4
}
