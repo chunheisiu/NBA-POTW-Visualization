{
 "cells": [
  {
   "cell_type": "markdown",
   "metadata": {},
   "source": [
    "## Visualization 4: Relationship between NBA Player of the Week and Other Awards/Honors"
   ]
  },
  {
   "cell_type": "code",
   "execution_count": 1,
   "metadata": {},
   "outputs": [],
   "source": [
    "%load_ext rpy2.ipython\n",
    "%R library(ggplot2)\n",
    "\n",
    "import pandas as pd\n",
    "import numpy as np"
   ]
  },
  {
   "cell_type": "markdown",
   "metadata": {},
   "source": [
    "### Load Datasets: Player of the Week & Summary"
   ]
  },
  {
   "cell_type": "code",
   "execution_count": 2,
   "metadata": {},
   "outputs": [],
   "source": [
    "## Player of week\n",
    "POTW = pd.read_csv('../data/raw/NBA_Player_of_the_Week.csv')\n",
    "POTW = POTW.loc[POTW['Season short'] > 1990]"
   ]
  },
  {
   "cell_type": "code",
   "execution_count": 3,
   "metadata": {},
   "outputs": [],
   "source": [
    "## Summary\n",
    "SUM = pd.read_csv('../data/scraped/NBA_Yearly_Summary.csv')"
   ]
  },
  {
   "cell_type": "code",
   "execution_count": 4,
   "metadata": {},
   "outputs": [],
   "source": [
    "# Person who get most times POTW each year\n",
    "POTW_count = POTW.groupby(['Season short','Player','Team']).count()['Date'].reset_index().rename(columns = {'Date': 'POTW_Count'})\n",
    "max_count = POTW_count.groupby('Season short').max()[['POTW_Count']].reset_index().rename(columns = {'POTW_Count': 'Max'})\n",
    "potw_max = pd.merge(max_count, POTW_count, on = ['Season short'])\n",
    "potw_max = potw_max.loc[potw_max.Max == potw_max.POTW_Count].drop(columns = 'POTW_Count')"
   ]
  },
  {
   "cell_type": "code",
   "execution_count": 5,
   "metadata": {},
   "outputs": [],
   "source": [
    "# Join Tables\n",
    "potw_title = pd.merge(potw_max,SUM, left_on = 'Season short', right_on= 'Year',how = 'left').drop(columns = 'Season short')"
   ]
  },
  {
   "cell_type": "code",
   "execution_count": 6,
   "metadata": {},
   "outputs": [],
   "source": [
    "# function to confirm whether the player got other titles\n",
    "def confirm(df, column1, column2):\n",
    "    df.loc[df[column1] != df[column2], column2] = 0\n",
    "    df.loc[df[column1] == df[column2], column2] = 1 \n",
    "    return df"
   ]
  },
  {
   "cell_type": "code",
   "execution_count": 7,
   "metadata": {},
   "outputs": [],
   "source": [
    "# Whether the person who got most time player of the week also got other titles?\n",
    "for col in potw_title.columns[-6:]:\n",
    "    potw_title = confirm(potw_title,'Player',str(col))"
   ]
  },
  {
   "cell_type": "code",
   "execution_count": 8,
   "metadata": {},
   "outputs": [],
   "source": [
    "# Maybe Some Max POTW didn't get any titles?\n",
    "cols = potw_title.columns[-6:]\n",
    "potw_title['Neither'] = potw_title[cols].sum(axis=1)\n",
    "potw_title.loc[potw_title['Neither'] != 0, 'Neither'] = 'either'\n",
    "potw_title.loc[potw_title['Neither'] == 0, 'Neither'] = 'neither'\n",
    "potw_title.loc[potw_title['Neither'] == 'neither', 'Neither'] = 1\n",
    "potw_title.loc[potw_title['Neither'] == 'either', 'Neither'] = 0"
   ]
  },
  {
   "cell_type": "code",
   "execution_count": 9,
   "metadata": {},
   "outputs": [],
   "source": [
    "# Restructure the Table and Rename the columns\n",
    "potw_title_new = (potw_title.groupby(['Year','Player','Team','Max'])\n",
    "                  .sum().stack().reset_index())\n",
    "potw_title_new.columns = ['Year','Player','Team','POTW_Times','Title','Whether']\n",
    "# Get the Rows Where Max POTW got titles\n",
    "potw_title_new = potw_title_new.loc[potw_title_new.Whether == 1]"
   ]
  },
  {
   "cell_type": "code",
   "execution_count": 10,
   "metadata": {},
   "outputs": [
    {
     "name": "stdout",
     "output_type": "stream",
     "text": [
      "<class 'pandas.core.frame.DataFrame'>\n",
      "Int64Index: 89 entries, 6 to 448\n",
      "Data columns (total 6 columns):\n",
      "Year          89 non-null int64\n",
      "Player        89 non-null object\n",
      "Team          89 non-null object\n",
      "POTW_Times    89 non-null int64\n",
      "Title         89 non-null category\n",
      "Whether       89 non-null int64\n",
      "dtypes: category(1), int64(3), object(2)\n",
      "memory usage: 4.6+ KB\n"
     ]
    }
   ],
   "source": [
    "# Set Categorical Variables and thus give the order to the titles\n",
    "title = ['Most Valuable Player','PPG Leader','WS Leader','RPG Leader','APG Leader','Rookie of the Year','Neither']\n",
    "potw_title_new.Title = potw_title_new.Title.astype(pd.api.types.CategoricalDtype(categories = title, ordered = True), )\n",
    "potw_title_new.info()"
   ]
  },
  {
   "cell_type": "code",
   "execution_count": 11,
   "metadata": {},
   "outputs": [],
   "source": [
    "# Drop the column Neither As there would be overlapped labels and hard for visualization\n",
    "potw_title_2 = potw_title_new.loc[potw_title_new.Title != 'Neither'].reset_index(drop = True)"
   ]
  },
  {
   "cell_type": "markdown",
   "metadata": {},
   "source": [
    "### Visualization in R"
   ]
  },
  {
   "cell_type": "code",
   "execution_count": 12,
   "metadata": {},
   "outputs": [],
   "source": [
    "%R -i potw_title_new\n",
    "%R -i potw_title_2"
   ]
  },
  {
   "cell_type": "code",
   "execution_count": 13,
   "metadata": {},
   "outputs": [],
   "source": [
    "%%R -w 12 -h 10 --units in -r 300\n",
    "season <- function(x) {\n",
    "    paste(x - 1, '-', x)\n",
    "}\n",
    "\n",
    "no_potw_label <- 'No player who received the most POTW received other NBA titles that season'\n",
    "\n",
    "ggplot(data = potw_title_2) + \n",
    "geom_label(aes(x = Year, y = Title, label = Player, fill = Player),family = 'Avenir Next',alpha = 0.5) +\n",
    "geom_rect(mapping=aes(xmin=2006-0.5, xmax=2013+0.5, ymin = 0, ymax = 7), fill=\"lightpink\", alpha=0.05) +\n",
    "geom_rect(mapping=aes(xmin=2014-0.5, xmax=2018+0.5, ymin = 0, ymax = 7), fill=\"lightblue\", alpha=0.05) +\n",
    "geom_rect(mapping=aes(xmin=2001-0.5, xmax=2005+0.5, ymin = 0, ymax = 7), fill=\"darkseagreen2\", alpha=0.05) +\n",
    "geom_rect(mapping=aes(xmin=1994-0.5, xmax=2000+0.5, ymin = 0, ymax = 7), fill=\"wheat\", alpha=0.05) +\n",
    "geom_rect(mapping=aes(xmin=1999-0.5, xmax=1999+0.5, ymin = 0, ymax = 7), fill=\"gold\", alpha=0.1) +\n",
    "geom_label(aes(x = Year, y = Title, label = Player),fill = 'white', family = 'Avenir Next') +\n",
    "geom_label(aes(x = Year, y = Title, label = Player, fill = Player),family = 'Avenir Next', alpha = 0.5) +\n",
    "geom_text(aes(x = 2000 , y = 6.9, label = '1998 - 99 NBA Lockout'), size = 5.5, color = 'grey1',\n",
    "          hjust = 'right' , fontface = 'bold', family = 'Avenir Next') +\n",
    "annotate('text', x = 1991, y = 3.5, label = no_potw_label,\n",
    "         hjust = 'middle', vjust = 'middle', fontface = 'italic', family = 'Avenir Next', color = 'dimgray') +\n",
    "annotate('text', x = 1992, y = 3.5, label = no_potw_label,\n",
    "         hjust = 'middle', vjust = 'middle', fontface = 'italic', family = 'Avenir Next', color = 'dimgray') +\n",
    "annotate('text', x = 1993, y = 3.5, label = no_potw_label,\n",
    "         hjust = 'middle', vjust = 'middle', fontface = 'italic', family = 'Avenir Next', color = 'dimgray') +\n",
    "annotate('text', x = 2011, y = 3.5, label = no_potw_label,\n",
    "         hjust = 'middle', vjust = 'middle', fontface = 'italic', family = 'Avenir Next', color = 'dimgray') +\n",
    "guides(fill = F, alpha = F) +\n",
    "coord_flip() +\n",
    "theme_minimal(base_size = 12) +\n",
    "theme(text = element_text(family = 'Avenir Next'),\n",
    "      axis.title = element_text(face = 'bold'),\n",
    "      panel.grid.major = element_blank()) +\n",
    "scale_x_continuous(name = 'Season\\n', limits = c(1991, 2019), breaks = seq(1991, 2019, by = 1), label = season) +\n",
    "scale_y_discrete(name = '\\nTitles received by the Player who received the most Player of the Week')\n",
    "\n",
    "ggsave('../vis/vis4.png', units = 'in', width = 12, height = 10)"
   ]
  }
 ],
 "metadata": {
  "kernelspec": {
   "display_name": "Python 3",
   "language": "python",
   "name": "python3"
  },
  "language_info": {
   "codemirror_mode": {
    "name": "ipython",
    "version": 3
   },
   "file_extension": ".py",
   "mimetype": "text/x-python",
   "name": "python",
   "nbconvert_exporter": "python",
   "pygments_lexer": "ipython3",
   "version": "3.7.4"
  }
 },
 "nbformat": 4,
 "nbformat_minor": 4
}
