{
 "cells": [
  {
   "cell_type": "markdown",
   "metadata": {},
   "source": [
    "## Scraping NBA Player Statistics"
   ]
  },
  {
   "cell_type": "code",
   "execution_count": 1,
   "metadata": {},
   "outputs": [],
   "source": [
    "from urllib.request import urlopen\n",
    "from bs4 import BeautifulSoup\n",
    "import numpy as np\n",
    "import pandas as pd"
   ]
  },
  {
   "cell_type": "markdown",
   "metadata": {},
   "source": [
    "Set year range to 1985 and 2020"
   ]
  },
  {
   "cell_type": "code",
   "execution_count": 2,
   "metadata": {},
   "outputs": [],
   "source": [
    "year_range = range(1985, 2020)"
   ]
  },
  {
   "cell_type": "markdown",
   "metadata": {},
   "source": [
    "Define function to get the NBA Player Statistics for given year"
   ]
  },
  {
   "cell_type": "code",
   "execution_count": 3,
   "metadata": {},
   "outputs": [],
   "source": [
    "def get_nba_stats(year):\n",
    "    # Get the source of the page\n",
    "    url = f'https://www.basketball-reference.com/leagues/NBA_{ year }_per_game.html'\n",
    "    html = urlopen(url)\n",
    "    soup = BeautifulSoup(html)\n",
    "    # Extract all table rows <tr>\n",
    "    rows = soup.findAll('tr')\n",
    "    # Extract all but the first table headers <th>\n",
    "    headers = [th.getText() for th in rows[0].findAll('th')][1:]\n",
    "    # Extract all but the first table cells <td>\n",
    "    players = [[td.getText().rstrip('*') for td in row.findAll('td')] for row in rows[1:]]\n",
    "    # Combine the headers and player data into Pandas DataFrame\n",
    "    stats = pd.DataFrame([row for row in players if row], columns = headers)\n",
    "    # Insert the year into the DataFrame\n",
    "    stats.insert(0, 'Year', year)\n",
    "    return stats"
   ]
  },
  {
   "cell_type": "markdown",
   "metadata": {},
   "source": [
    "Get the NBA Player Statistics from each year between the year range and save to Pandas DataFrame"
   ]
  },
  {
   "cell_type": "code",
   "execution_count": 4,
   "metadata": {},
   "outputs": [],
   "source": [
    "full_stat = pd.DataFrame()\n",
    "for year in year_range:\n",
    "    stats = get_nba_stats(year)\n",
    "    full_stat = pd.concat([full_stat, stats])"
   ]
  },
  {
   "cell_type": "markdown",
   "metadata": {},
   "source": [
    "Save DataFrame to file"
   ]
  },
  {
   "cell_type": "code",
   "execution_count": 5,
   "metadata": {},
   "outputs": [],
   "source": [
    "full_stat.to_csv('../data/scraped/NBA_Player_Stats.csv', index = False)"
   ]
  }
 ],
 "metadata": {
  "kernelspec": {
   "display_name": "Python 3",
   "language": "python",
   "name": "python3"
  },
  "language_info": {
   "codemirror_mode": {
    "name": "ipython",
    "version": 3
   },
   "file_extension": ".py",
   "mimetype": "text/x-python",
   "name": "python",
   "nbconvert_exporter": "python",
   "pygments_lexer": "ipython3",
   "version": "3.7.4"
  }
 },
 "nbformat": 4,
 "nbformat_minor": 4
}
