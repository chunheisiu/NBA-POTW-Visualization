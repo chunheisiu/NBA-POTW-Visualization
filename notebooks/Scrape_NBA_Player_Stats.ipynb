{
 "cells": [
  {
   "cell_type": "code",
   "execution_count": 1,
   "metadata": {},
   "outputs": [],
   "source": [
    "from urllib.request import urlopen\n",
    "from bs4 import BeautifulSoup\n",
    "import numpy as np\n",
    "import pandas as pd"
   ]
  },
  {
   "cell_type": "code",
   "execution_count": 2,
   "metadata": {},
   "outputs": [],
   "source": [
    "year_range = range(1985, 2020)\n",
    "# year_range = range(2019, 2020)"
   ]
  },
  {
   "cell_type": "code",
   "execution_count": 3,
   "metadata": {},
   "outputs": [],
   "source": [
    "def get_nba_stats(year):\n",
    "    url = f'https://www.basketball-reference.com/leagues/NBA_{ year }_per_game.html'\n",
    "    html = urlopen(url)\n",
    "    soup = BeautifulSoup(html)\n",
    "    rows = soup.findAll('tr')\n",
    "    headers = [th.getText() for th in rows[0].findAll('th')][1:]\n",
    "    players = [[td.getText() for td in row.findAll('td')] for row in rows[1:]]\n",
    "    stats = pd.DataFrame([row for row in players if row], columns = headers)\n",
    "    stats.insert(0, 'Year', year)\n",
    "    return stats"
   ]
  },
  {
   "cell_type": "code",
   "execution_count": 4,
   "metadata": {},
   "outputs": [],
   "source": [
    "full_stat = pd.DataFrame()\n",
    "for year in year_range:\n",
    "    stats = get_nba_stats(year)\n",
    "    full_stat = pd.concat([full_stat, stats])\n",
    "# full_stat.info()"
   ]
  },
  {
   "cell_type": "code",
   "execution_count": 5,
   "metadata": {},
   "outputs": [],
   "source": [
    "full_stat.to_csv('../data/scraped/NBA_Player_Stats.csv', index = False)"
   ]
  }
 ],
 "metadata": {
  "kernelspec": {
   "display_name": "Python 3",
   "language": "python",
   "name": "python3"
  },
  "language_info": {
   "codemirror_mode": {
    "name": "ipython",
    "version": 3
   },
   "file_extension": ".py",
   "mimetype": "text/x-python",
   "name": "python",
   "nbconvert_exporter": "python",
   "pygments_lexer": "ipython3",
   "version": "3.7.4"
  }
 },
 "nbformat": 4,
 "nbformat_minor": 4
}
