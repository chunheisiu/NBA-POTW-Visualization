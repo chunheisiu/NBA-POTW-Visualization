{
 "cells": [
  {
   "cell_type": "code",
   "execution_count": 3,
   "metadata": {},
   "outputs": [],
   "source": [
    "from urllib.request import urlopen\n",
    "from bs4 import BeautifulSoup\n",
    "import numpy as np\n",
    "import pandas as pd"
   ]
  },
  {
   "cell_type": "code",
   "execution_count": 7,
   "metadata": {},
   "outputs": [],
   "source": [
    "year_range = np.arange(1985,2020)"
   ]
  },
  {
   "cell_type": "code",
   "execution_count": 14,
   "metadata": {},
   "outputs": [],
   "source": [
    "def get_nba_stats(year):\n",
    "    url = \"https://www.basketball-reference.com/leagues/NBA_{}_per_game.html\".format(year)\n",
    "    html = urlopen(url)\n",
    "    soup = BeautifulSoup(html)\n",
    "    soup.findAll('tr', limit=2)\n",
    "    headers = [th.getText() for th in soup.findAll('tr', limit=2)[0].findAll('th')]\n",
    "    headers = headers[1:]\n",
    "    rows = soup.findAll('tr')[1:]\n",
    "    player_stats = [[td.getText() for td in rows[i].findAll('td')] for i in range(len(rows))]\n",
    "    stats = pd.DataFrame(player_stats, columns = headers)\n",
    "    stats.loc[:,'Year'] = year\n",
    "    return stats"
   ]
  },
  {
   "cell_type": "code",
   "execution_count": 20,
   "metadata": {},
   "outputs": [
    {
     "name": "stdout",
     "output_type": "stream",
     "text": [
      "<class 'pandas.core.frame.DataFrame'>\n",
      "Int64Index: 19208 entries, 0 to 733\n",
      "Data columns (total 30 columns):\n",
      "Player    18472 non-null object\n",
      "Pos       18472 non-null object\n",
      "Age       18472 non-null object\n",
      "Tm        18472 non-null object\n",
      "G         18472 non-null object\n",
      "GS        18472 non-null object\n",
      "MP        18472 non-null object\n",
      "FG        18472 non-null object\n",
      "FGA       18472 non-null object\n",
      "FG%       18472 non-null object\n",
      "3P        18472 non-null object\n",
      "3PA       18472 non-null object\n",
      "3P%       18472 non-null object\n",
      "2P        18472 non-null object\n",
      "2PA       18472 non-null object\n",
      "2P%       18472 non-null object\n",
      "eFG%      18472 non-null object\n",
      "FT        18472 non-null object\n",
      "FTA       18472 non-null object\n",
      "FT%       18472 non-null object\n",
      "ORB       18472 non-null object\n",
      "DRB       18472 non-null object\n",
      "TRB       18472 non-null object\n",
      "AST       18472 non-null object\n",
      "STL       18472 non-null object\n",
      "BLK       18472 non-null object\n",
      "TOV       18472 non-null object\n",
      "PF        18472 non-null object\n",
      "PTS       18472 non-null object\n",
      "Year      19208 non-null int64\n",
      "dtypes: int64(1), object(29)\n",
      "memory usage: 4.5+ MB\n"
     ]
    }
   ],
   "source": [
    "full_stat = get_nba_stats(year_range[0])\n",
    "for year in year_range[1:]:\n",
    "    stats = get_nba_stats(year)\n",
    "    full_stat = pd.concat([full_stat,stats])\n",
    "full_stat.info()    "
   ]
  },
  {
   "cell_type": "code",
   "execution_count": 21,
   "metadata": {},
   "outputs": [],
   "source": [
    "full_stat.to_csv('Player_Stats')"
   ]
  },
  {
   "cell_type": "code",
   "execution_count": null,
   "metadata": {},
   "outputs": [],
   "source": []
  }
 ],
 "metadata": {
  "kernelspec": {
   "display_name": "Python 3",
   "language": "python",
   "name": "python3"
  },
  "language_info": {
   "codemirror_mode": {
    "name": "ipython",
    "version": 3
   },
   "file_extension": ".py",
   "mimetype": "text/x-python",
   "name": "python",
   "nbconvert_exporter": "python",
   "pygments_lexer": "ipython3",
   "version": "3.7.3"
  }
 },
 "nbformat": 4,
 "nbformat_minor": 2
}
